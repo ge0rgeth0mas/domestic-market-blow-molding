{
 "cells": [
  {
   "attachments": {},
   "cell_type": "markdown",
   "metadata": {},
   "source": [
    "# Univariate ARIMA"
   ]
  },
  {
   "attachments": {},
   "cell_type": "markdown",
   "metadata": {},
   "source": [
    "### Import Packages"
   ]
  },
  {
   "cell_type": "code",
   "execution_count": 1,
   "metadata": {},
   "outputs": [],
   "source": [
    "import pandas as pd\n",
    "import numpy as np\n",
    "import os\n",
    "from statsmodels.tsa.statespace.sarimax import SARIMAX\n",
    "from sklearn.metrics import mean_squared_error, mean_absolute_error, r2_score\n",
    "import matplotlib.pyplot as plt\n",
    "import seaborn as sns"
   ]
  },
  {
   "attachments": {},
   "cell_type": "markdown",
   "metadata": {},
   "source": [
    "### Import Data"
   ]
  },
  {
   "cell_type": "code",
   "execution_count": 2,
   "metadata": {},
   "outputs": [],
   "source": [
    "path = os.getcwd()\n",
    "path = path.replace('modeling', 'data_preprocessing')\n",
    "files = os.listdir(path)\n",
    "for file in files:\n",
    "    if len(file.split('.csv'))>1:\n",
    "        csv_path = path+'/'+file\n",
    "data = pd.read_csv(csv_path)\n",
    "data['date']=pd.to_datetime(data['date'])"
   ]
  },
  {
   "cell_type": "code",
   "execution_count": 3,
   "metadata": {},
   "outputs": [
    {
     "data": {
      "text/html": [
       "<div>\n",
       "<style scoped>\n",
       "    .dataframe tbody tr th:only-of-type {\n",
       "        vertical-align: middle;\n",
       "    }\n",
       "\n",
       "    .dataframe tbody tr th {\n",
       "        vertical-align: top;\n",
       "    }\n",
       "\n",
       "    .dataframe thead th {\n",
       "        text-align: right;\n",
       "    }\n",
       "</style>\n",
       "<table border=\"1\" class=\"dataframe\">\n",
       "  <thead>\n",
       "    <tr style=\"text-align: right;\">\n",
       "      <th></th>\n",
       "      <th>target</th>\n",
       "    </tr>\n",
       "    <tr>\n",
       "      <th>date</th>\n",
       "      <th></th>\n",
       "    </tr>\n",
       "  </thead>\n",
       "  <tbody>\n",
       "    <tr>\n",
       "      <th>2000-01-01</th>\n",
       "      <td>41.0</td>\n",
       "    </tr>\n",
       "    <tr>\n",
       "      <th>2000-02-01</th>\n",
       "      <td>41.0</td>\n",
       "    </tr>\n",
       "    <tr>\n",
       "      <th>2000-03-01</th>\n",
       "      <td>45.0</td>\n",
       "    </tr>\n",
       "  </tbody>\n",
       "</table>\n",
       "</div>"
      ],
      "text/plain": [
       "            target\n",
       "date              \n",
       "2000-01-01    41.0\n",
       "2000-02-01    41.0\n",
       "2000-03-01    45.0"
      ]
     },
     "execution_count": 3,
     "metadata": {},
     "output_type": "execute_result"
    }
   ],
   "source": [
    "# Univariate data\n",
    "uv_data = data[data.columns[:2]].set_index(data.columns[0])\n",
    "uv_data =  uv_data.rename(columns = {data.columns[1]:'target'})\n",
    "uv_data.head(3)"
   ]
  },
  {
   "attachments": {},
   "cell_type": "markdown",
   "metadata": {},
   "source": [
    "### Identify AR I MA components"
   ]
  },
  {
   "cell_type": "code",
   "execution_count": 4,
   "metadata": {},
   "outputs": [
    {
     "name": "stdout",
     "output_type": "stream",
     "text": [
      "Performing stepwise search to minimize aic\n",
      " ARIMA(1,0,1)(0,1,0)[12] intercept   : AIC=1652.710, Time=0.06 sec\n",
      " ARIMA(0,0,0)(0,1,0)[12] intercept   : AIC=2271.691, Time=0.01 sec\n",
      " ARIMA(1,0,0)(1,1,0)[12] intercept   : AIC=1621.639, Time=0.23 sec\n",
      " ARIMA(0,0,1)(0,1,1)[12] intercept   : AIC=1908.180, Time=0.41 sec\n",
      " ARIMA(0,0,0)(0,1,0)[12]             : AIC=2273.960, Time=0.02 sec\n",
      " ARIMA(1,0,0)(0,1,0)[12] intercept   : AIC=1702.590, Time=0.03 sec\n",
      " ARIMA(1,0,0)(2,1,0)[12] intercept   : AIC=1601.434, Time=0.64 sec\n",
      " ARIMA(1,0,0)(2,1,1)[12] intercept   : AIC=inf, Time=2.35 sec\n",
      " ARIMA(1,0,0)(1,1,1)[12] intercept   : AIC=inf, Time=1.01 sec\n",
      " ARIMA(0,0,0)(2,1,0)[12] intercept   : AIC=2212.180, Time=0.47 sec\n",
      " ARIMA(2,0,0)(2,1,0)[12] intercept   : AIC=1534.489, Time=1.04 sec\n",
      " ARIMA(2,0,0)(1,1,0)[12] intercept   : AIC=1567.730, Time=0.25 sec\n",
      " ARIMA(2,0,0)(2,1,1)[12] intercept   : AIC=inf, Time=1.86 sec\n",
      " ARIMA(2,0,0)(1,1,1)[12] intercept   : AIC=inf, Time=0.59 sec\n",
      " ARIMA(3,0,0)(2,1,0)[12] intercept   : AIC=1536.447, Time=1.43 sec\n",
      " ARIMA(2,0,1)(2,1,0)[12] intercept   : AIC=1536.456, Time=1.19 sec\n",
      " ARIMA(1,0,1)(2,1,0)[12] intercept   : AIC=1547.453, Time=1.26 sec\n",
      " ARIMA(3,0,1)(2,1,0)[12] intercept   : AIC=1534.813, Time=2.71 sec\n",
      " ARIMA(2,0,0)(2,1,0)[12]             : AIC=1533.870, Time=0.30 sec\n",
      " ARIMA(2,0,0)(1,1,0)[12]             : AIC=1566.497, Time=0.09 sec\n",
      " ARIMA(2,0,0)(2,1,1)[12]             : AIC=1492.302, Time=1.27 sec\n",
      " ARIMA(2,0,0)(1,1,1)[12]             : AIC=inf, Time=0.37 sec\n",
      " ARIMA(2,0,0)(2,1,2)[12]             : AIC=1491.575, Time=1.72 sec\n",
      " ARIMA(2,0,0)(1,1,2)[12]             : AIC=inf, Time=1.50 sec\n",
      " ARIMA(1,0,0)(2,1,2)[12]             : AIC=inf, Time=2.34 sec\n",
      " ARIMA(3,0,0)(2,1,2)[12]             : AIC=1493.396, Time=2.43 sec\n",
      " ARIMA(2,0,1)(2,1,2)[12]             : AIC=1493.452, Time=2.10 sec\n",
      " ARIMA(1,0,1)(2,1,2)[12]             : AIC=inf, Time=1.75 sec\n",
      " ARIMA(3,0,1)(2,1,2)[12]             : AIC=1495.244, Time=3.84 sec\n",
      " ARIMA(2,0,0)(2,1,2)[12] intercept   : AIC=inf, Time=2.30 sec\n",
      "\n",
      "Best model:  ARIMA(2,0,0)(2,1,2)[12]          \n",
      "Total fit time: 35.585 seconds\n"
     ]
    }
   ],
   "source": [
    "from pmdarima import auto_arima\n",
    "\n",
    "# Ignore harmless warnings\n",
    "import warnings\n",
    "warnings.filterwarnings(\"ignore\")\n",
    "\n",
    "stepwise_result = auto_arima(uv_data['target'], start_p= 1, start_d=0, start_q=1,\n",
    "                             m=12, start_P=0, D=1, start_Q=0,\n",
    "                             seasonal=True,\n",
    "                             trace=True,\n",
    "                             error_action='ignore',\n",
    "                             suppress_warnings=True,\n",
    "                             stepwise=True, n_fits=100)"
   ]
  },
  {
   "cell_type": "code",
   "execution_count": 5,
   "metadata": {},
   "outputs": [
    {
     "name": "stdout",
     "output_type": "stream",
     "text": [
      "                                        SARIMAX Results                                        \n",
      "===============================================================================================\n",
      "Dep. Variable:                                       y   No. Observations:                  276\n",
      "Model:             SARIMAX(2, 0, 0)x(2, 1, [1, 2], 12)   Log Likelihood                -738.788\n",
      "Date:                                 Tue, 06 Jun 2023   AIC                           1491.575\n",
      "Time:                                         13:20:15   BIC                           1516.607\n",
      "Sample:                                     01-01-2000   HQIC                          1501.634\n",
      "                                          - 12-01-2022                                         \n",
      "Covariance Type:                                   opg                                         \n",
      "==============================================================================\n",
      "                 coef    std err          z      P>|z|      [0.025      0.975]\n",
      "------------------------------------------------------------------------------\n",
      "ar.L1          1.4154      0.043     33.303      0.000       1.332       1.499\n",
      "ar.L2         -0.4494      0.044    -10.324      0.000      -0.535      -0.364\n",
      "ar.S.L12      -0.9132      0.239     -3.822      0.000      -1.382      -0.445\n",
      "ar.S.L24      -0.1321      0.079     -1.681      0.093      -0.286       0.022\n",
      "ma.S.L12      -0.0250      0.242     -0.104      0.917      -0.498       0.448\n",
      "ma.S.L24      -0.7430      0.240     -3.101      0.002      -1.213      -0.273\n",
      "sigma2        14.4728      0.670     21.598      0.000      13.159      15.786\n",
      "===================================================================================\n",
      "Ljung-Box (L1) (Q):                   0.00   Jarque-Bera (JB):              4038.87\n",
      "Prob(Q):                              0.97   Prob(JB):                         0.00\n",
      "Heteroskedasticity (H):               1.96   Skew:                            -2.80\n",
      "Prob(H) (two-sided):                  0.00   Kurtosis:                        21.33\n",
      "===================================================================================\n",
      "\n",
      "Warnings:\n",
      "[1] Covariance matrix calculated using the outer product of gradients (complex-step).\n"
     ]
    }
   ],
   "source": [
    "print(stepwise_result.summary())"
   ]
  },
  {
   "cell_type": "code",
   "execution_count": 6,
   "metadata": {},
   "outputs": [
    {
     "data": {
      "text/html": [
       "<table class=\"simpletable\">\n",
       "<caption>SARIMAX Results</caption>\n",
       "<tr>\n",
       "  <th>Dep. Variable:</th>           <td>y</td>        <th>  No. Observations:  </th>    <td>276</td>  \n",
       "</tr>\n",
       "<tr>\n",
       "  <th>Model:</th>           <td>SARIMAX(2, 1, 1)</td> <th>  Log Likelihood     </th> <td>-758.797</td>\n",
       "</tr>\n",
       "<tr>\n",
       "  <th>Date:</th>            <td>Tue, 06 Jun 2023</td> <th>  AIC                </th> <td>1525.593</td>\n",
       "</tr>\n",
       "<tr>\n",
       "  <th>Time:</th>                <td>13:20:20</td>     <th>  BIC                </th> <td>1540.060</td>\n",
       "</tr>\n",
       "<tr>\n",
       "  <th>Sample:</th>             <td>01-01-2000</td>    <th>  HQIC               </th> <td>1531.399</td>\n",
       "</tr>\n",
       "<tr>\n",
       "  <th></th>                   <td>- 12-01-2022</td>   <th>                     </th>     <td> </td>   \n",
       "</tr>\n",
       "<tr>\n",
       "  <th>Covariance Type:</th>        <td>opg</td>       <th>                     </th>     <td> </td>   \n",
       "</tr>\n",
       "</table>\n",
       "<table class=\"simpletable\">\n",
       "<tr>\n",
       "     <td></td>       <th>coef</th>     <th>std err</th>      <th>z</th>      <th>P>|z|</th>  <th>[0.025</th>    <th>0.975]</th>  \n",
       "</tr>\n",
       "<tr>\n",
       "  <th>ar.L1</th>  <td>    1.3465</td> <td>    0.047</td> <td>   28.558</td> <td> 0.000</td> <td>    1.254</td> <td>    1.439</td>\n",
       "</tr>\n",
       "<tr>\n",
       "  <th>ar.L2</th>  <td>   -0.4283</td> <td>    0.035</td> <td>  -12.395</td> <td> 0.000</td> <td>   -0.496</td> <td>   -0.361</td>\n",
       "</tr>\n",
       "<tr>\n",
       "  <th>ma.L1</th>  <td>   -0.9513</td> <td>    0.045</td> <td>  -21.211</td> <td> 0.000</td> <td>   -1.039</td> <td>   -0.863</td>\n",
       "</tr>\n",
       "<tr>\n",
       "  <th>sigma2</th> <td>   14.5690</td> <td>    0.404</td> <td>   36.026</td> <td> 0.000</td> <td>   13.776</td> <td>   15.362</td>\n",
       "</tr>\n",
       "</table>\n",
       "<table class=\"simpletable\">\n",
       "<tr>\n",
       "  <th>Ljung-Box (L1) (Q):</th>     <td>0.04</td> <th>  Jarque-Bera (JB):  </th> <td>5924.73</td>\n",
       "</tr>\n",
       "<tr>\n",
       "  <th>Prob(Q):</th>                <td>0.84</td> <th>  Prob(JB):          </th>  <td>0.00</td>  \n",
       "</tr>\n",
       "<tr>\n",
       "  <th>Heteroskedasticity (H):</th> <td>2.58</td> <th>  Skew:              </th>  <td>-3.02</td> \n",
       "</tr>\n",
       "<tr>\n",
       "  <th>Prob(H) (two-sided):</th>    <td>0.00</td> <th>  Kurtosis:          </th>  <td>24.92</td> \n",
       "</tr>\n",
       "</table><br/><br/>Warnings:<br/>[1] Covariance matrix calculated using the outer product of gradients (complex-step)."
      ],
      "text/latex": [
       "\\begin{center}\n",
       "\\begin{tabular}{lclc}\n",
       "\\toprule\n",
       "\\textbf{Dep. Variable:}          &        y         & \\textbf{  No. Observations:  } &    276      \\\\\n",
       "\\textbf{Model:}                  & SARIMAX(2, 1, 1) & \\textbf{  Log Likelihood     } &  -758.797   \\\\\n",
       "\\textbf{Date:}                   & Tue, 06 Jun 2023 & \\textbf{  AIC                } &  1525.593   \\\\\n",
       "\\textbf{Time:}                   &     13:20:20     & \\textbf{  BIC                } &  1540.060   \\\\\n",
       "\\textbf{Sample:}                 &    01-01-2000    & \\textbf{  HQIC               } &  1531.399   \\\\\n",
       "\\textbf{}                        &   - 12-01-2022   & \\textbf{                     } &             \\\\\n",
       "\\textbf{Covariance Type:}        &       opg        & \\textbf{                     } &             \\\\\n",
       "\\bottomrule\n",
       "\\end{tabular}\n",
       "\\begin{tabular}{lcccccc}\n",
       "                & \\textbf{coef} & \\textbf{std err} & \\textbf{z} & \\textbf{P$> |$z$|$} & \\textbf{[0.025} & \\textbf{0.975]}  \\\\\n",
       "\\midrule\n",
       "\\textbf{ar.L1}  &       1.3465  &        0.047     &    28.558  &         0.000        &        1.254    &        1.439     \\\\\n",
       "\\textbf{ar.L2}  &      -0.4283  &        0.035     &   -12.395  &         0.000        &       -0.496    &       -0.361     \\\\\n",
       "\\textbf{ma.L1}  &      -0.9513  &        0.045     &   -21.211  &         0.000        &       -1.039    &       -0.863     \\\\\n",
       "\\textbf{sigma2} &      14.5690  &        0.404     &    36.026  &         0.000        &       13.776    &       15.362     \\\\\n",
       "\\bottomrule\n",
       "\\end{tabular}\n",
       "\\begin{tabular}{lclc}\n",
       "\\textbf{Ljung-Box (L1) (Q):}     & 0.04 & \\textbf{  Jarque-Bera (JB):  } & 5924.73  \\\\\n",
       "\\textbf{Prob(Q):}                & 0.84 & \\textbf{  Prob(JB):          } &   0.00   \\\\\n",
       "\\textbf{Heteroskedasticity (H):} & 2.58 & \\textbf{  Skew:              } &  -3.02   \\\\\n",
       "\\textbf{Prob(H) (two-sided):}    & 0.00 & \\textbf{  Kurtosis:          } &  24.92   \\\\\n",
       "\\bottomrule\n",
       "\\end{tabular}\n",
       "%\\caption{SARIMAX Results}\n",
       "\\end{center}\n",
       "\n",
       "Warnings: \\newline\n",
       " [1] Covariance matrix calculated using the outer product of gradients (complex-step)."
      ],
      "text/plain": [
       "<class 'statsmodels.iolib.summary.Summary'>\n",
       "\"\"\"\n",
       "                               SARIMAX Results                                \n",
       "==============================================================================\n",
       "Dep. Variable:                      y   No. Observations:                  276\n",
       "Model:               SARIMAX(2, 1, 1)   Log Likelihood                -758.797\n",
       "Date:                Tue, 06 Jun 2023   AIC                           1525.593\n",
       "Time:                        13:20:20   BIC                           1540.060\n",
       "Sample:                    01-01-2000   HQIC                          1531.399\n",
       "                         - 12-01-2022                                         \n",
       "Covariance Type:                  opg                                         \n",
       "==============================================================================\n",
       "                 coef    std err          z      P>|z|      [0.025      0.975]\n",
       "------------------------------------------------------------------------------\n",
       "ar.L1          1.3465      0.047     28.558      0.000       1.254       1.439\n",
       "ar.L2         -0.4283      0.035    -12.395      0.000      -0.496      -0.361\n",
       "ma.L1         -0.9513      0.045    -21.211      0.000      -1.039      -0.863\n",
       "sigma2        14.5690      0.404     36.026      0.000      13.776      15.362\n",
       "===================================================================================\n",
       "Ljung-Box (L1) (Q):                   0.04   Jarque-Bera (JB):              5924.73\n",
       "Prob(Q):                              0.84   Prob(JB):                         0.00\n",
       "Heteroskedasticity (H):               2.58   Skew:                            -3.02\n",
       "Prob(H) (two-sided):                  0.00   Kurtosis:                        24.92\n",
       "===================================================================================\n",
       "\n",
       "Warnings:\n",
       "[1] Covariance matrix calculated using the outer product of gradients (complex-step).\n",
       "\"\"\""
      ]
     },
     "execution_count": 6,
     "metadata": {},
     "output_type": "execute_result"
    }
   ],
   "source": [
    "stepwise_fit = auto_arima(uv_data['target'], seasonal=True, m=12,\n",
    "                          suppress_warnings=True, \n",
    "                          error_action=\"ignore\", max_order=None, stepwise=True)\n",
    "\n",
    "# To print the summary\n",
    "stepwise_fit.summary()"
   ]
  },
  {
   "attachments": {},
   "cell_type": "markdown",
   "metadata": {},
   "source": [
    "The above suggests the presensece of Heteroskedasticty and Non-normality"
   ]
  },
  {
   "attachments": {},
   "cell_type": "markdown",
   "metadata": {},
   "source": [
    "### Train Test Split"
   ]
  },
  {
   "cell_type": "code",
   "execution_count": 7,
   "metadata": {},
   "outputs": [],
   "source": [
    "X_train = uv_data[:-12]\n",
    "X_test = uv_data[-12:]"
   ]
  },
  {
   "attachments": {},
   "cell_type": "markdown",
   "metadata": {},
   "source": [
    "### Fit the first model"
   ]
  },
  {
   "cell_type": "code",
   "execution_count": 8,
   "metadata": {},
   "outputs": [],
   "source": [
    "from statsmodels.tsa.statespace.sarimax import SARIMAX\n",
    "model1 = SARIMAX(X_train['target'], order=(2,0,0), seasonal_order=(2, 1, [1, 2], 12))"
   ]
  },
  {
   "cell_type": "code",
   "execution_count": 9,
   "metadata": {},
   "outputs": [
    {
     "name": "stderr",
     "output_type": "stream",
     "text": [
      " This problem is unconstrained.\n"
     ]
    },
    {
     "name": "stdout",
     "output_type": "stream",
     "text": [
      "RUNNING THE L-BFGS-B CODE\n",
      "\n",
      "           * * *\n",
      "\n",
      "Machine precision = 2.220D-16\n",
      " N =            7     M =           10\n",
      "\n",
      "At X0         0 variables are exactly at the bounds\n",
      "\n",
      "At iterate    0    f=  2.88163D+00    |proj g|=  4.22712D-01\n",
      "\n",
      "At iterate    5    f=  2.69981D+00    |proj g|=  4.89234D-02\n",
      "\n",
      "At iterate   10    f=  2.68191D+00    |proj g|=  7.13978D-03\n",
      "\n",
      "At iterate   15    f=  2.68098D+00    |proj g|=  1.28340D-04\n",
      "\n",
      "           * * *\n",
      "\n",
      "Tit   = total number of iterations\n",
      "Tnf   = total number of function evaluations\n",
      "Tnint = total number of segments explored during Cauchy searches\n",
      "Skip  = number of BFGS updates skipped\n",
      "Nact  = number of active bounds at final generalized Cauchy point\n",
      "Projg = norm of the final projected gradient\n",
      "F     = final function value\n",
      "\n",
      "           * * *\n",
      "\n",
      "   N    Tit     Tnf  Tnint  Skip  Nact     Projg        F\n",
      "    7     18     19      1     0     0   6.690D-05   2.681D+00\n",
      "  F =   2.6809750980783251     \n",
      "\n",
      "CONVERGENCE: REL_REDUCTION_OF_F_<=_FACTR*EPSMCH             \n"
     ]
    }
   ],
   "source": [
    "model1_fit = model1.fit()"
   ]
  },
  {
   "attachments": {},
   "cell_type": "markdown",
   "metadata": {},
   "source": [
    "### Predictions with First Model"
   ]
  },
  {
   "cell_type": "code",
   "execution_count": 10,
   "metadata": {},
   "outputs": [],
   "source": [
    "predictions1 = model1_fit.get_forecast(steps = len(X_test)).predicted_mean"
   ]
  },
  {
   "cell_type": "code",
   "execution_count": 11,
   "metadata": {},
   "outputs": [],
   "source": [
    "result1 = pd.concat([uv_data['target'].rename('Actual'), predictions1.rename('Predicted')], axis=1)"
   ]
  },
  {
   "cell_type": "code",
   "execution_count": 12,
   "metadata": {},
   "outputs": [
    {
     "data": {
      "image/png": "[encoded data removed]",
      "text/plain": [
       "<Figure size 2000x600 with 1 Axes>"
      ]
     },
     "metadata": {},
     "output_type": "display_data"
    }
   ],
   "source": [
    "# Filter the results for the last three years\n",
    "last_three_years = result1.iloc[-36:]\n",
    "\n",
    "# Plot the results using seaborn\n",
    "plt.figure(figsize=(20, 6))\n",
    "sns.lineplot(data=last_three_years, marker='o')\n",
    "plt.xlabel('Date')\n",
    "plt.ylabel('Target Variable')\n",
    "plt.title('SARIMAX Model Prediction vs. Actual (Last Three Years)')\n",
    "plt.legend(['Target', 'Predicted'])\n",
    "plt.show()"
   ]
  },
  {
   "attachments": {},
   "cell_type": "markdown",
   "metadata": {},
   "source": [
    "### Fit the Second Model"
   ]
  },
  {
   "cell_type": "code",
   "execution_count": 13,
   "metadata": {},
   "outputs": [],
   "source": [
    "from statsmodels.tsa.arima.model import ARIMA\n",
    "model2 = ARIMA(X_train['target'], order=(2,1,1))\n",
    "model2_fit = model2.fit()"
   ]
  },
  {
   "attachments": {},
   "cell_type": "markdown",
   "metadata": {},
   "source": [
    "### Predictions with Second Model"
   ]
  },
  {
   "cell_type": "code",
   "execution_count": 14,
   "metadata": {},
   "outputs": [],
   "source": [
    "predictions2 = model2_fit.get_forecast(steps = len(X_test)).predicted_mean"
   ]
  },
  {
   "cell_type": "code",
   "execution_count": 15,
   "metadata": {},
   "outputs": [],
   "source": [
    "result2 = pd.concat([uv_data['target'].rename('Actual'), predictions2.rename('Predicted')], axis=1)"
   ]
  },
  {
   "cell_type": "code",
   "execution_count": 16,
   "metadata": {},
   "outputs": [
    {
     "data": {
      "image/png": "[encoded data removed]",
      "text/plain": [
       "<Figure size 2000x800 with 1 Axes>"
      ]
     },
     "metadata": {},
     "output_type": "display_data"
    }
   ],
   "source": [
    "# Filter the results for the last three years\n",
    "last_three_years = result2.iloc[-36:]\n",
    "\n",
    "# Plot the results using seaborn\n",
    "plt.figure(figsize=(20, 8))\n",
    "sns.lineplot(data=last_three_years, marker='o')\n",
    "plt.xlabel('Date')\n",
    "plt.ylabel('Target Variable')\n",
    "plt.title('SARIMAX Model Prediction vs. Actual (Last Three Years)')\n",
    "plt.legend(['Target', 'Predicted'])\n",
    "plt.show()"
   ]
  },
  {
   "attachments": {},
   "cell_type": "markdown",
   "metadata": {},
   "source": [
    "### Evaluation\n",
    "Visually we can see that Model 1 gives a comparitivelty better prediction"
   ]
  },
  {
   "attachments": {},
   "cell_type": "markdown",
   "metadata": {},
   "source": [
    "#### Summary"
   ]
  },
  {
   "cell_type": "code",
   "execution_count": 17,
   "metadata": {},
   "outputs": [
    {
     "data": {
      "text/html": [
       "<table class=\"simpletable\">\n",
       "<caption>SARIMAX Results</caption>\n",
       "<tr>\n",
       "  <th>Dep. Variable:</th>                 <td>target</td>                <th>  No. Observations:  </th>    <td>264</td>  \n",
       "</tr>\n",
       "<tr>\n",
       "  <th>Model:</th>           <td>SARIMAX(2, 0, 0)x(2, 1, [1, 2], 12)</td> <th>  Log Likelihood     </th> <td>-707.777</td>\n",
       "</tr>\n",
       "<tr>\n",
       "  <th>Date:</th>                     <td>Tue, 06 Jun 2023</td>           <th>  AIC                </th> <td>1429.555</td>\n",
       "</tr>\n",
       "<tr>\n",
       "  <th>Time:</th>                         <td>13:20:22</td>               <th>  BIC                </th> <td>1454.261</td>\n",
       "</tr>\n",
       "<tr>\n",
       "  <th>Sample:</th>                      <td>01-01-2000</td>              <th>  HQIC               </th> <td>1439.496</td>\n",
       "</tr>\n",
       "<tr>\n",
       "  <th></th>                            <td>- 12-01-2021</td>             <th>                     </th>     <td> </td>   \n",
       "</tr>\n",
       "<tr>\n",
       "  <th>Covariance Type:</th>                 <td>opg</td>                 <th>                     </th>     <td> </td>   \n",
       "</tr>\n",
       "</table>\n",
       "<table class=\"simpletable\">\n",
       "<tr>\n",
       "      <td></td>        <th>coef</th>     <th>std err</th>      <th>z</th>      <th>P>|z|</th>  <th>[0.025</th>    <th>0.975]</th>  \n",
       "</tr>\n",
       "<tr>\n",
       "  <th>ar.L1</th>    <td>    1.4243</td> <td>    0.043</td> <td>   33.053</td> <td> 0.000</td> <td>    1.340</td> <td>    1.509</td>\n",
       "</tr>\n",
       "<tr>\n",
       "  <th>ar.L2</th>    <td>   -0.4628</td> <td>    0.045</td> <td>  -10.305</td> <td> 0.000</td> <td>   -0.551</td> <td>   -0.375</td>\n",
       "</tr>\n",
       "<tr>\n",
       "  <th>ar.S.L12</th> <td>   -0.9844</td> <td>    0.330</td> <td>   -2.982</td> <td> 0.003</td> <td>   -1.631</td> <td>   -0.337</td>\n",
       "</tr>\n",
       "<tr>\n",
       "  <th>ar.S.L24</th> <td>   -0.1488</td> <td>    0.076</td> <td>   -1.964</td> <td> 0.050</td> <td>   -0.297</td> <td>   -0.000</td>\n",
       "</tr>\n",
       "<tr>\n",
       "  <th>ma.S.L12</th> <td>    0.0471</td> <td>    0.335</td> <td>    0.141</td> <td> 0.888</td> <td>   -0.608</td> <td>    0.703</td>\n",
       "</tr>\n",
       "<tr>\n",
       "  <th>ma.S.L24</th> <td>   -0.7271</td> <td>    0.290</td> <td>   -2.507</td> <td> 0.012</td> <td>   -1.295</td> <td>   -0.159</td>\n",
       "</tr>\n",
       "<tr>\n",
       "  <th>sigma2</th>   <td>   14.8839</td> <td>    0.716</td> <td>   20.779</td> <td> 0.000</td> <td>   13.480</td> <td>   16.288</td>\n",
       "</tr>\n",
       "</table>\n",
       "<table class=\"simpletable\">\n",
       "<tr>\n",
       "  <th>Ljung-Box (L1) (Q):</th>     <td>0.02</td> <th>  Jarque-Bera (JB):  </th> <td>3705.28</td>\n",
       "</tr>\n",
       "<tr>\n",
       "  <th>Prob(Q):</th>                <td>0.88</td> <th>  Prob(JB):          </th>  <td>0.00</td>  \n",
       "</tr>\n",
       "<tr>\n",
       "  <th>Heteroskedasticity (H):</th> <td>3.09</td> <th>  Skew:              </th>  <td>-2.79</td> \n",
       "</tr>\n",
       "<tr>\n",
       "  <th>Prob(H) (two-sided):</th>    <td>0.00</td> <th>  Kurtosis:          </th>  <td>20.94</td> \n",
       "</tr>\n",
       "</table><br/><br/>Warnings:<br/>[1] Covariance matrix calculated using the outer product of gradients (complex-step)."
      ],
      "text/latex": [
       "\\begin{center}\n",
       "\\begin{tabular}{lclc}\n",
       "\\toprule\n",
       "\\textbf{Dep. Variable:}          &                target               & \\textbf{  No. Observations:  } &    264      \\\\\n",
       "\\textbf{Model:}                  & SARIMAX(2, 0, 0)x(2, 1, [1, 2], 12) & \\textbf{  Log Likelihood     } &  -707.777   \\\\\n",
       "\\textbf{Date:}                   &           Tue, 06 Jun 2023          & \\textbf{  AIC                } &  1429.555   \\\\\n",
       "\\textbf{Time:}                   &               13:20:22              & \\textbf{  BIC                } &  1454.261   \\\\\n",
       "\\textbf{Sample:}                 &              01-01-2000             & \\textbf{  HQIC               } &  1439.496   \\\\\n",
       "\\textbf{}                        &             - 12-01-2021            & \\textbf{                     } &             \\\\\n",
       "\\textbf{Covariance Type:}        &                 opg                 & \\textbf{                     } &             \\\\\n",
       "\\bottomrule\n",
       "\\end{tabular}\n",
       "\\begin{tabular}{lcccccc}\n",
       "                  & \\textbf{coef} & \\textbf{std err} & \\textbf{z} & \\textbf{P$> |$z$|$} & \\textbf{[0.025} & \\textbf{0.975]}  \\\\\n",
       "\\midrule\n",
       "\\textbf{ar.L1}    &       1.4243  &        0.043     &    33.053  &         0.000        &        1.340    &        1.509     \\\\\n",
       "\\textbf{ar.L2}    &      -0.4628  &        0.045     &   -10.305  &         0.000        &       -0.551    &       -0.375     \\\\\n",
       "\\textbf{ar.S.L12} &      -0.9844  &        0.330     &    -2.982  &         0.003        &       -1.631    &       -0.337     \\\\\n",
       "\\textbf{ar.S.L24} &      -0.1488  &        0.076     &    -1.964  &         0.050        &       -0.297    &       -0.000     \\\\\n",
       "\\textbf{ma.S.L12} &       0.0471  &        0.335     &     0.141  &         0.888        &       -0.608    &        0.703     \\\\\n",
       "\\textbf{ma.S.L24} &      -0.7271  &        0.290     &    -2.507  &         0.012        &       -1.295    &       -0.159     \\\\\n",
       "\\textbf{sigma2}   &      14.8839  &        0.716     &    20.779  &         0.000        &       13.480    &       16.288     \\\\\n",
       "\\bottomrule\n",
       "\\end{tabular}\n",
       "\\begin{tabular}{lclc}\n",
       "\\textbf{Ljung-Box (L1) (Q):}     & 0.02 & \\textbf{  Jarque-Bera (JB):  } & 3705.28  \\\\\n",
       "\\textbf{Prob(Q):}                & 0.88 & \\textbf{  Prob(JB):          } &   0.00   \\\\\n",
       "\\textbf{Heteroskedasticity (H):} & 3.09 & \\textbf{  Skew:              } &  -2.79   \\\\\n",
       "\\textbf{Prob(H) (two-sided):}    & 0.00 & \\textbf{  Kurtosis:          } &  20.94   \\\\\n",
       "\\bottomrule\n",
       "\\end{tabular}\n",
       "%\\caption{SARIMAX Results}\n",
       "\\end{center}\n",
       "\n",
       "Warnings: \\newline\n",
       " [1] Covariance matrix calculated using the outer product of gradients (complex-step)."
      ],
      "text/plain": [
       "<class 'statsmodels.iolib.summary.Summary'>\n",
       "\"\"\"\n",
       "                                        SARIMAX Results                                        \n",
       "===============================================================================================\n",
       "Dep. Variable:                                  target   No. Observations:                  264\n",
       "Model:             SARIMAX(2, 0, 0)x(2, 1, [1, 2], 12)   Log Likelihood                -707.777\n",
       "Date:                                 Tue, 06 Jun 2023   AIC                           1429.555\n",
       "Time:                                         13:20:22   BIC                           1454.261\n",
       "Sample:                                     01-01-2000   HQIC                          1439.496\n",
       "                                          - 12-01-2021                                         \n",
       "Covariance Type:                                   opg                                         \n",
       "==============================================================================\n",
       "                 coef    std err          z      P>|z|      [0.025      0.975]\n",
       "------------------------------------------------------------------------------\n",
       "ar.L1          1.4243      0.043     33.053      0.000       1.340       1.509\n",
       "ar.L2         -0.4628      0.045    -10.305      0.000      -0.551      -0.375\n",
       "ar.S.L12      -0.9844      0.330     -2.982      0.003      -1.631      -0.337\n",
       "ar.S.L24      -0.1488      0.076     -1.964      0.050      -0.297      -0.000\n",
       "ma.S.L12       0.0471      0.335      0.141      0.888      -0.608       0.703\n",
       "ma.S.L24      -0.7271      0.290     -2.507      0.012      -1.295      -0.159\n",
       "sigma2        14.8839      0.716     20.779      0.000      13.480      16.288\n",
       "===================================================================================\n",
       "Ljung-Box (L1) (Q):                   0.02   Jarque-Bera (JB):              3705.28\n",
       "Prob(Q):                              0.88   Prob(JB):                         0.00\n",
       "Heteroskedasticity (H):               3.09   Skew:                            -2.79\n",
       "Prob(H) (two-sided):                  0.00   Kurtosis:                        20.94\n",
       "===================================================================================\n",
       "\n",
       "Warnings:\n",
       "[1] Covariance matrix calculated using the outer product of gradients (complex-step).\n",
       "\"\"\""
      ]
     },
     "execution_count": 17,
     "metadata": {},
     "output_type": "execute_result"
    }
   ],
   "source": [
    "model1_fit.summary()"
   ]
  },
  {
   "cell_type": "code",
   "execution_count": 18,
   "metadata": {},
   "outputs": [
    {
     "data": {
      "text/html": [
       "<table class=\"simpletable\">\n",
       "<caption>SARIMAX Results</caption>\n",
       "<tr>\n",
       "  <th>Dep. Variable:</th>        <td>target</td>      <th>  No. Observations:  </th>    <td>264</td>  \n",
       "</tr>\n",
       "<tr>\n",
       "  <th>Model:</th>            <td>ARIMA(2, 1, 1)</td>  <th>  Log Likelihood     </th> <td>-729.649</td>\n",
       "</tr>\n",
       "<tr>\n",
       "  <th>Date:</th>            <td>Tue, 06 Jun 2023</td> <th>  AIC                </th> <td>1467.298</td>\n",
       "</tr>\n",
       "<tr>\n",
       "  <th>Time:</th>                <td>13:20:22</td>     <th>  BIC                </th> <td>1481.587</td>\n",
       "</tr>\n",
       "<tr>\n",
       "  <th>Sample:</th>             <td>01-01-2000</td>    <th>  HQIC               </th> <td>1473.040</td>\n",
       "</tr>\n",
       "<tr>\n",
       "  <th></th>                   <td>- 12-01-2021</td>   <th>                     </th>     <td> </td>   \n",
       "</tr>\n",
       "<tr>\n",
       "  <th>Covariance Type:</th>        <td>opg</td>       <th>                     </th>     <td> </td>   \n",
       "</tr>\n",
       "</table>\n",
       "<table class=\"simpletable\">\n",
       "<tr>\n",
       "     <td></td>       <th>coef</th>     <th>std err</th>      <th>z</th>      <th>P>|z|</th>  <th>[0.025</th>    <th>0.975]</th>  \n",
       "</tr>\n",
       "<tr>\n",
       "  <th>ar.L1</th>  <td>    1.3504</td> <td>    0.046</td> <td>   29.116</td> <td> 0.000</td> <td>    1.259</td> <td>    1.441</td>\n",
       "</tr>\n",
       "<tr>\n",
       "  <th>ar.L2</th>  <td>   -0.4332</td> <td>    0.036</td> <td>  -12.108</td> <td> 0.000</td> <td>   -0.503</td> <td>   -0.363</td>\n",
       "</tr>\n",
       "<tr>\n",
       "  <th>ma.L1</th>  <td>   -0.9525</td> <td>    0.043</td> <td>  -22.060</td> <td> 0.000</td> <td>   -1.037</td> <td>   -0.868</td>\n",
       "</tr>\n",
       "<tr>\n",
       "  <th>sigma2</th> <td>   15.0122</td> <td>    0.429</td> <td>   34.988</td> <td> 0.000</td> <td>   14.171</td> <td>   15.853</td>\n",
       "</tr>\n",
       "</table>\n",
       "<table class=\"simpletable\">\n",
       "<tr>\n",
       "  <th>Ljung-Box (L1) (Q):</th>     <td>0.05</td> <th>  Jarque-Bera (JB):  </th> <td>5430.91</td>\n",
       "</tr>\n",
       "<tr>\n",
       "  <th>Prob(Q):</th>                <td>0.82</td> <th>  Prob(JB):          </th>  <td>0.00</td>  \n",
       "</tr>\n",
       "<tr>\n",
       "  <th>Heteroskedasticity (H):</th> <td>3.86</td> <th>  Skew:              </th>  <td>-3.00</td> \n",
       "</tr>\n",
       "<tr>\n",
       "  <th>Prob(H) (two-sided):</th>    <td>0.00</td> <th>  Kurtosis:          </th>  <td>24.44</td> \n",
       "</tr>\n",
       "</table><br/><br/>Warnings:<br/>[1] Covariance matrix calculated using the outer product of gradients (complex-step)."
      ],
      "text/latex": [
       "\\begin{center}\n",
       "\\begin{tabular}{lclc}\n",
       "\\toprule\n",
       "\\textbf{Dep. Variable:}          &      target      & \\textbf{  No. Observations:  } &    264      \\\\\n",
       "\\textbf{Model:}                  &  ARIMA(2, 1, 1)  & \\textbf{  Log Likelihood     } &  -729.649   \\\\\n",
       "\\textbf{Date:}                   & Tue, 06 Jun 2023 & \\textbf{  AIC                } &  1467.298   \\\\\n",
       "\\textbf{Time:}                   &     13:20:22     & \\textbf{  BIC                } &  1481.587   \\\\\n",
       "\\textbf{Sample:}                 &    01-01-2000    & \\textbf{  HQIC               } &  1473.040   \\\\\n",
       "\\textbf{}                        &   - 12-01-2021   & \\textbf{                     } &             \\\\\n",
       "\\textbf{Covariance Type:}        &       opg        & \\textbf{                     } &             \\\\\n",
       "\\bottomrule\n",
       "\\end{tabular}\n",
       "\\begin{tabular}{lcccccc}\n",
       "                & \\textbf{coef} & \\textbf{std err} & \\textbf{z} & \\textbf{P$> |$z$|$} & \\textbf{[0.025} & \\textbf{0.975]}  \\\\\n",
       "\\midrule\n",
       "\\textbf{ar.L1}  &       1.3504  &        0.046     &    29.116  &         0.000        &        1.259    &        1.441     \\\\\n",
       "\\textbf{ar.L2}  &      -0.4332  &        0.036     &   -12.108  &         0.000        &       -0.503    &       -0.363     \\\\\n",
       "\\textbf{ma.L1}  &      -0.9525  &        0.043     &   -22.060  &         0.000        &       -1.037    &       -0.868     \\\\\n",
       "\\textbf{sigma2} &      15.0122  &        0.429     &    34.988  &         0.000        &       14.171    &       15.853     \\\\\n",
       "\\bottomrule\n",
       "\\end{tabular}\n",
       "\\begin{tabular}{lclc}\n",
       "\\textbf{Ljung-Box (L1) (Q):}     & 0.05 & \\textbf{  Jarque-Bera (JB):  } & 5430.91  \\\\\n",
       "\\textbf{Prob(Q):}                & 0.82 & \\textbf{  Prob(JB):          } &   0.00   \\\\\n",
       "\\textbf{Heteroskedasticity (H):} & 3.86 & \\textbf{  Skew:              } &  -3.00   \\\\\n",
       "\\textbf{Prob(H) (two-sided):}    & 0.00 & \\textbf{  Kurtosis:          } &  24.44   \\\\\n",
       "\\bottomrule\n",
       "\\end{tabular}\n",
       "%\\caption{SARIMAX Results}\n",
       "\\end{center}\n",
       "\n",
       "Warnings: \\newline\n",
       " [1] Covariance matrix calculated using the outer product of gradients (complex-step)."
      ],
      "text/plain": [
       "<class 'statsmodels.iolib.summary.Summary'>\n",
       "\"\"\"\n",
       "                               SARIMAX Results                                \n",
       "==============================================================================\n",
       "Dep. Variable:                 target   No. Observations:                  264\n",
       "Model:                 ARIMA(2, 1, 1)   Log Likelihood                -729.649\n",
       "Date:                Tue, 06 Jun 2023   AIC                           1467.298\n",
       "Time:                        13:20:22   BIC                           1481.587\n",
       "Sample:                    01-01-2000   HQIC                          1473.040\n",
       "                         - 12-01-2021                                         \n",
       "Covariance Type:                  opg                                         \n",
       "==============================================================================\n",
       "                 coef    std err          z      P>|z|      [0.025      0.975]\n",
       "------------------------------------------------------------------------------\n",
       "ar.L1          1.3504      0.046     29.116      0.000       1.259       1.441\n",
       "ar.L2         -0.4332      0.036    -12.108      0.000      -0.503      -0.363\n",
       "ma.L1         -0.9525      0.043    -22.060      0.000      -1.037      -0.868\n",
       "sigma2        15.0122      0.429     34.988      0.000      14.171      15.853\n",
       "===================================================================================\n",
       "Ljung-Box (L1) (Q):                   0.05   Jarque-Bera (JB):              5430.91\n",
       "Prob(Q):                              0.82   Prob(JB):                         0.00\n",
       "Heteroskedasticity (H):               3.86   Skew:                            -3.00\n",
       "Prob(H) (two-sided):                  0.00   Kurtosis:                        24.44\n",
       "===================================================================================\n",
       "\n",
       "Warnings:\n",
       "[1] Covariance matrix calculated using the outer product of gradients (complex-step).\n",
       "\"\"\""
      ]
     },
     "execution_count": 18,
     "metadata": {},
     "output_type": "execute_result"
    }
   ],
   "source": [
    "model2_fit.summary()"
   ]
  },
  {
   "cell_type": "code",
   "execution_count": 19,
   "metadata": {},
   "outputs": [],
   "source": [
    "result1 = result1.iloc[-12:,:]\n",
    "result2 = result2.iloc[-12:,:]"
   ]
  },
  {
   "cell_type": "code",
   "execution_count": 20,
   "metadata": {},
   "outputs": [
    {
     "name": "stdout",
     "output_type": "stream",
     "text": [
      "SARIMAX Model Evaluation:\n",
      "RMSE: 10.02\n",
      "MSE: 100.47\n",
      "R2: -6.28\n",
      "MAE: 9.41\n",
      "MAPE: 9.87%\n",
      "Directional Accuracy: 25.00%\n",
      "\n",
      "ARIMA Model Evaluation:\n",
      "RMSE: 9.49\n",
      "MSE: 90.05\n",
      "R2: -5.52\n",
      "MAE: 8.72\n",
      "MAPE: 9.14%\n",
      "Directional Accuracy: 25.00%\n"
     ]
    }
   ],
   "source": [
    "from sklearn.metrics import mean_squared_error, r2_score, mean_absolute_error\n",
    "\n",
    "# Calculate RMSE\n",
    "rmse_sarimax = np.sqrt(mean_squared_error(result1['Actual'], result1['Predicted']))\n",
    "rmse_arima = np.sqrt(mean_squared_error(result2['Actual'], result2['Predicted']))\n",
    "\n",
    "# Calculate MSE\n",
    "mse_sarimax = mean_squared_error(result1['Actual'], result1['Predicted'])\n",
    "mse_arima = mean_squared_error(result2['Actual'], result2['Predicted'])\n",
    "\n",
    "# Calculate R2\n",
    "r2_sarimax = r2_score(result1['Actual'], result1['Predicted'])\n",
    "r2_arima = r2_score(result2['Actual'], result2['Predicted'])\n",
    "\n",
    "# Calculate MAE\n",
    "mae_sarimax = mean_absolute_error(result1['Actual'], result1['Predicted'])\n",
    "mae_arima = mean_absolute_error(result2['Actual'], result2['Predicted'])\n",
    "\n",
    "# Calculate MAPE\n",
    "def calculate_mape(actual, predicted):\n",
    "    return np.mean(np.abs((actual - predicted) / actual)) * 100\n",
    "\n",
    "mape_sarimax = calculate_mape(result1['Actual'], result1['Predicted'])\n",
    "mape_arima = calculate_mape(result2['Actual'], result2['Predicted'])\n",
    "\n",
    "# Calculate directional accuracy\n",
    "def calculate_directional_accuracy(actual, predicted):\n",
    "    directional_accuracy = (np.sign(actual.diff()) == np.sign(predicted.diff())).mean()\n",
    "    return directional_accuracy * 100\n",
    "\n",
    "directional_accuracy_sarimax = calculate_directional_accuracy(result1['Actual'], result1['Predicted'])\n",
    "directional_accuracy_arima = calculate_directional_accuracy(result2['Actual'], result2['Predicted'])\n",
    "\n",
    "# Print the evaluation metrics\n",
    "print(\"SARIMAX Model Evaluation:\")\n",
    "print(f\"RMSE: {rmse_sarimax:.2f}\")\n",
    "print(f\"MSE: {mse_sarimax:.2f}\")\n",
    "print(f\"R2: {r2_sarimax:.2f}\")\n",
    "print(f\"MAE: {mae_sarimax:.2f}\")\n",
    "print(f\"MAPE: {mape_sarimax:.2f}%\")\n",
    "print(f\"Directional Accuracy: {directional_accuracy_sarimax:.2f}%\")\n",
    "print()\n",
    "print(\"ARIMA Model Evaluation:\")\n",
    "print(f\"RMSE: {rmse_arima:.2f}\")\n",
    "print(f\"MSE: {mse_arima:.2f}\")\n",
    "print(f\"R2: {r2_arima:.2f}\")\n",
    "print(f\"MAE: {mae_arima:.2f}\")\n",
    "print(f\"MAPE: {mape_arima:.2f}%\")\n",
    "print(f\"Directional Accuracy: {directional_accuracy_arima:.2f}%\")\n"
   ]
  },
  {
   "attachments": {},
   "cell_type": "markdown",
   "metadata": {},
   "source": [
    "### Conclusion"
   ]
  },
  {
   "attachments": {},
   "cell_type": "markdown",
   "metadata": {},
   "source": [
    "Although SARIMAX model showed a lower AIC in training, the ARIMA model proved to be slightly better in predicting in comparison with the test set.\n",
    "\n",
    "We have already seen that the presence of Heteroskedasiticty and Non-normality in the data.\n",
    "\n",
    "Overall, The prediction power of univariate ARIMA models is weak for the given data due to the global scenarios that prevailed during the period , as discussed during EDA."
   ]
  }
 ],
 "metadata": {
  "kernelspec": {
   "display_name": ".venv",
   "language": "python",
   "name": "python3"
  },
  "language_info": {
   "codemirror_mode": {
    "name": "ipython",
    "version": 3
   },
   "file_extension": ".py",
   "mimetype": "text/x-python",
   "name": "python",
   "nbconvert_exporter": "python",
   "pygments_lexer": "ipython3",
   "version": "3.9.16"
  },
  "orig_nbformat": 4
 },
 "nbformat": 4,
 "nbformat_minor": 2
}
