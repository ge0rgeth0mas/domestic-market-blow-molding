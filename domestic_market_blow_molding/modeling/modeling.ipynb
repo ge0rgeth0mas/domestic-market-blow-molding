{
 "cells": [
  {
   "attachments": {},
   "cell_type": "markdown",
   "metadata": {},
   "source": [
    "# Modeling"
   ]
  },
  {
   "attachments": {},
   "cell_type": "markdown",
   "metadata": {},
   "source": [
    "## Univariate ARIMA\n",
    "We have got the p,d,q values from EDA to be 2,1,1 respectively."
   ]
  },
  {
   "cell_type": "code",
   "execution_count": 60,
   "metadata": {},
   "outputs": [],
   "source": [
    "import pandas as pd\n",
    "import numpy as np\n",
    "import os\n",
    "from statsmodels.tsa.statespace.sarimax import SARIMAX\n",
    "from sklearn.metrics import mean_squared_error, mean_absolute_error, r2_score"
   ]
  },
  {
   "cell_type": "code",
   "execution_count": 61,
   "metadata": {},
   "outputs": [],
   "source": [
    "path = os.getcwd()\n",
    "path = path.replace('modeling', 'data_preprocessing')\n",
    "files = os.listdir(path)\n",
    "for file in files:\n",
    "    if len(file.split('.csv'))>1:\n",
    "        csv_path = path+'/'+file\n",
    "data = pd.read_csv(csv_path)\n",
    "data['date']=pd.to_datetime(data['date'])"
   ]
  },
  {
   "cell_type": "code",
   "execution_count": 62,
   "metadata": {},
   "outputs": [
    {
     "data": {
      "text/html": [
       "<div>\n",
       "<style scoped>\n",
       "    .dataframe tbody tr th:only-of-type {\n",
       "        vertical-align: middle;\n",
       "    }\n",
       "\n",
       "    .dataframe tbody tr th {\n",
       "        vertical-align: top;\n",
       "    }\n",
       "\n",
       "    .dataframe thead th {\n",
       "        text-align: right;\n",
       "    }\n",
       "</style>\n",
       "<table border=\"1\" class=\"dataframe\">\n",
       "  <thead>\n",
       "    <tr style=\"text-align: right;\">\n",
       "      <th></th>\n",
       "      <th>target</th>\n",
       "    </tr>\n",
       "    <tr>\n",
       "      <th>date</th>\n",
       "      <th></th>\n",
       "    </tr>\n",
       "  </thead>\n",
       "  <tbody>\n",
       "    <tr>\n",
       "      <th>2000-01-01</th>\n",
       "      <td>41.0</td>\n",
       "    </tr>\n",
       "    <tr>\n",
       "      <th>2000-02-01</th>\n",
       "      <td>41.0</td>\n",
       "    </tr>\n",
       "    <tr>\n",
       "      <th>2000-03-01</th>\n",
       "      <td>45.0</td>\n",
       "    </tr>\n",
       "  </tbody>\n",
       "</table>\n",
       "</div>"
      ],
      "text/plain": [
       "            target\n",
       "date              \n",
       "2000-01-01    41.0\n",
       "2000-02-01    41.0\n",
       "2000-03-01    45.0"
      ]
     },
     "execution_count": 62,
     "metadata": {},
     "output_type": "execute_result"
    }
   ],
   "source": [
    "# Univariate data\n",
    "uv_data = data[data.columns[:2]].set_index(data.columns[0])\n",
    "uv_data =  uv_data.rename(columns = {data.columns[1]:'target'})\n",
    "uv_data.head(3)"
   ]
  },
  {
   "cell_type": "code",
   "execution_count": 63,
   "metadata": {},
   "outputs": [],
   "source": [
    "# Parameters\n",
    "# ARIMA\n",
    "p=2\n",
    "d=1\n",
    "q=1\n",
    "# Seasonality\n",
    "P=0\n",
    "D=0\n",
    "Q=0\n",
    "s=12\n",
    "import warnings\n",
    "warnings.filterwarnings(\"ignore\")\n"
   ]
  },
  {
   "cell_type": "code",
   "execution_count": 64,
   "metadata": {},
   "outputs": [],
   "source": [
    "# Train-Test Split\n",
    "test_split = 12\n",
    "X_train_uvARIMA = uv_data.iloc[:-test_split]\n",
    "X_test_uvARIMA = uv_data.iloc[-test_split:]"
   ]
  },
  {
   "cell_type": "code",
   "execution_count": 65,
   "metadata": {},
   "outputs": [],
   "source": [
    "# Model building\n",
    "ARIMA_model = SARIMAX(X_train_uvARIMA, order=(2, 1, 1), seasonal_order=(0, 0, 0, 12))\n",
    "ARIMA_fit = ARIMA_model.fit(disp=False)"
   ]
  },
  {
   "cell_type": "code",
   "execution_count": 66,
   "metadata": {},
   "outputs": [
    {
     "data": {
      "text/html": [
       "<table class=\"simpletable\">\n",
       "<caption>SARIMAX Results</caption>\n",
       "<tr>\n",
       "  <th>Dep. Variable:</th>        <td>target</td>      <th>  No. Observations:  </th>    <td>264</td>  \n",
       "</tr>\n",
       "<tr>\n",
       "  <th>Model:</th>           <td>SARIMAX(2, 1, 1)</td> <th>  Log Likelihood     </th> <td>-729.649</td>\n",
       "</tr>\n",
       "<tr>\n",
       "  <th>Date:</th>            <td>Thu, 01 Jun 2023</td> <th>  AIC                </th> <td>1467.298</td>\n",
       "</tr>\n",
       "<tr>\n",
       "  <th>Time:</th>                <td>20:41:01</td>     <th>  BIC                </th> <td>1481.587</td>\n",
       "</tr>\n",
       "<tr>\n",
       "  <th>Sample:</th>             <td>01-01-2000</td>    <th>  HQIC               </th> <td>1473.040</td>\n",
       "</tr>\n",
       "<tr>\n",
       "  <th></th>                   <td>- 12-01-2021</td>   <th>                     </th>     <td> </td>   \n",
       "</tr>\n",
       "<tr>\n",
       "  <th>Covariance Type:</th>        <td>opg</td>       <th>                     </th>     <td> </td>   \n",
       "</tr>\n",
       "</table>\n",
       "<table class=\"simpletable\">\n",
       "<tr>\n",
       "     <td></td>       <th>coef</th>     <th>std err</th>      <th>z</th>      <th>P>|z|</th>  <th>[0.025</th>    <th>0.975]</th>  \n",
       "</tr>\n",
       "<tr>\n",
       "  <th>ar.L1</th>  <td>    1.3504</td> <td>    0.046</td> <td>   29.116</td> <td> 0.000</td> <td>    1.259</td> <td>    1.441</td>\n",
       "</tr>\n",
       "<tr>\n",
       "  <th>ar.L2</th>  <td>   -0.4332</td> <td>    0.036</td> <td>  -12.108</td> <td> 0.000</td> <td>   -0.503</td> <td>   -0.363</td>\n",
       "</tr>\n",
       "<tr>\n",
       "  <th>ma.L1</th>  <td>   -0.9525</td> <td>    0.043</td> <td>  -22.060</td> <td> 0.000</td> <td>   -1.037</td> <td>   -0.868</td>\n",
       "</tr>\n",
       "<tr>\n",
       "  <th>sigma2</th> <td>   15.0122</td> <td>    0.429</td> <td>   34.988</td> <td> 0.000</td> <td>   14.171</td> <td>   15.853</td>\n",
       "</tr>\n",
       "</table>\n",
       "<table class=\"simpletable\">\n",
       "<tr>\n",
       "  <th>Ljung-Box (L1) (Q):</th>     <td>0.05</td> <th>  Jarque-Bera (JB):  </th> <td>5430.91</td>\n",
       "</tr>\n",
       "<tr>\n",
       "  <th>Prob(Q):</th>                <td>0.82</td> <th>  Prob(JB):          </th>  <td>0.00</td>  \n",
       "</tr>\n",
       "<tr>\n",
       "  <th>Heteroskedasticity (H):</th> <td>3.86</td> <th>  Skew:              </th>  <td>-3.00</td> \n",
       "</tr>\n",
       "<tr>\n",
       "  <th>Prob(H) (two-sided):</th>    <td>0.00</td> <th>  Kurtosis:          </th>  <td>24.44</td> \n",
       "</tr>\n",
       "</table><br/><br/>Warnings:<br/>[1] Covariance matrix calculated using the outer product of gradients (complex-step)."
      ],
      "text/latex": [
       "\\begin{center}\n",
       "\\begin{tabular}{lclc}\n",
       "\\toprule\n",
       "\\textbf{Dep. Variable:}          &      target      & \\textbf{  No. Observations:  } &    264      \\\\\n",
       "\\textbf{Model:}                  & SARIMAX(2, 1, 1) & \\textbf{  Log Likelihood     } &  -729.649   \\\\\n",
       "\\textbf{Date:}                   & Thu, 01 Jun 2023 & \\textbf{  AIC                } &  1467.298   \\\\\n",
       "\\textbf{Time:}                   &     20:41:01     & \\textbf{  BIC                } &  1481.587   \\\\\n",
       "\\textbf{Sample:}                 &    01-01-2000    & \\textbf{  HQIC               } &  1473.040   \\\\\n",
       "\\textbf{}                        &   - 12-01-2021   & \\textbf{                     } &             \\\\\n",
       "\\textbf{Covariance Type:}        &       opg        & \\textbf{                     } &             \\\\\n",
       "\\bottomrule\n",
       "\\end{tabular}\n",
       "\\begin{tabular}{lcccccc}\n",
       "                & \\textbf{coef} & \\textbf{std err} & \\textbf{z} & \\textbf{P$> |$z$|$} & \\textbf{[0.025} & \\textbf{0.975]}  \\\\\n",
       "\\midrule\n",
       "\\textbf{ar.L1}  &       1.3504  &        0.046     &    29.116  &         0.000        &        1.259    &        1.441     \\\\\n",
       "\\textbf{ar.L2}  &      -0.4332  &        0.036     &   -12.108  &         0.000        &       -0.503    &       -0.363     \\\\\n",
       "\\textbf{ma.L1}  &      -0.9525  &        0.043     &   -22.060  &         0.000        &       -1.037    &       -0.868     \\\\\n",
       "\\textbf{sigma2} &      15.0122  &        0.429     &    34.988  &         0.000        &       14.171    &       15.853     \\\\\n",
       "\\bottomrule\n",
       "\\end{tabular}\n",
       "\\begin{tabular}{lclc}\n",
       "\\textbf{Ljung-Box (L1) (Q):}     & 0.05 & \\textbf{  Jarque-Bera (JB):  } & 5430.91  \\\\\n",
       "\\textbf{Prob(Q):}                & 0.82 & \\textbf{  Prob(JB):          } &   0.00   \\\\\n",
       "\\textbf{Heteroskedasticity (H):} & 3.86 & \\textbf{  Skew:              } &  -3.00   \\\\\n",
       "\\textbf{Prob(H) (two-sided):}    & 0.00 & \\textbf{  Kurtosis:          } &  24.44   \\\\\n",
       "\\bottomrule\n",
       "\\end{tabular}\n",
       "%\\caption{SARIMAX Results}\n",
       "\\end{center}\n",
       "\n",
       "Warnings: \\newline\n",
       " [1] Covariance matrix calculated using the outer product of gradients (complex-step)."
      ],
      "text/plain": [
       "<class 'statsmodels.iolib.summary.Summary'>\n",
       "\"\"\"\n",
       "                               SARIMAX Results                                \n",
       "==============================================================================\n",
       "Dep. Variable:                 target   No. Observations:                  264\n",
       "Model:               SARIMAX(2, 1, 1)   Log Likelihood                -729.649\n",
       "Date:                Thu, 01 Jun 2023   AIC                           1467.298\n",
       "Time:                        20:41:01   BIC                           1481.587\n",
       "Sample:                    01-01-2000   HQIC                          1473.040\n",
       "                         - 12-01-2021                                         \n",
       "Covariance Type:                  opg                                         \n",
       "==============================================================================\n",
       "                 coef    std err          z      P>|z|      [0.025      0.975]\n",
       "------------------------------------------------------------------------------\n",
       "ar.L1          1.3504      0.046     29.116      0.000       1.259       1.441\n",
       "ar.L2         -0.4332      0.036    -12.108      0.000      -0.503      -0.363\n",
       "ma.L1         -0.9525      0.043    -22.060      0.000      -1.037      -0.868\n",
       "sigma2        15.0122      0.429     34.988      0.000      14.171      15.853\n",
       "===================================================================================\n",
       "Ljung-Box (L1) (Q):                   0.05   Jarque-Bera (JB):              5430.91\n",
       "Prob(Q):                              0.82   Prob(JB):                         0.00\n",
       "Heteroskedasticity (H):               3.86   Skew:                            -3.00\n",
       "Prob(H) (two-sided):                  0.00   Kurtosis:                        24.44\n",
       "===================================================================================\n",
       "\n",
       "Warnings:\n",
       "[1] Covariance matrix calculated using the outer product of gradients (complex-step).\n",
       "\"\"\""
      ]
     },
     "execution_count": 66,
     "metadata": {},
     "output_type": "execute_result"
    }
   ],
   "source": [
    "ARIMA_fit.summary()"
   ]
  },
  {
   "cell_type": "code",
   "execution_count": 97,
   "metadata": {},
   "outputs": [
    {
     "data": {
      "text/html": [
       "<div>\n",
       "<style scoped>\n",
       "    .dataframe tbody tr th:only-of-type {\n",
       "        vertical-align: middle;\n",
       "    }\n",
       "\n",
       "    .dataframe tbody tr th {\n",
       "        vertical-align: top;\n",
       "    }\n",
       "\n",
       "    .dataframe thead th {\n",
       "        text-align: right;\n",
       "    }\n",
       "</style>\n",
       "<table border=\"1\" class=\"dataframe\">\n",
       "  <thead>\n",
       "    <tr style=\"text-align: right;\">\n",
       "      <th></th>\n",
       "      <th>predicted_mean</th>\n",
       "      <th>target</th>\n",
       "    </tr>\n",
       "  </thead>\n",
       "  <tbody>\n",
       "    <tr>\n",
       "      <th>2022-01-01</th>\n",
       "      <td>90.004843</td>\n",
       "      <td>93.0</td>\n",
       "    </tr>\n",
       "    <tr>\n",
       "      <th>2022-02-01</th>\n",
       "      <td>88.126060</td>\n",
       "      <td>93.0</td>\n",
       "    </tr>\n",
       "    <tr>\n",
       "      <th>2022-03-01</th>\n",
       "      <td>86.886380</td>\n",
       "      <td>97.0</td>\n",
       "    </tr>\n",
       "    <tr>\n",
       "      <th>2022-04-01</th>\n",
       "      <td>86.026158</td>\n",
       "      <td>97.0</td>\n",
       "    </tr>\n",
       "    <tr>\n",
       "      <th>2022-05-01</th>\n",
       "      <td>85.401514</td>\n",
       "      <td>100.0</td>\n",
       "    </tr>\n",
       "    <tr>\n",
       "      <th>2022-06-01</th>\n",
       "      <td>84.930622</td>\n",
       "      <td>100.0</td>\n",
       "    </tr>\n",
       "    <tr>\n",
       "      <th>2022-07-01</th>\n",
       "      <td>84.565309</td>\n",
       "      <td>97.0</td>\n",
       "    </tr>\n",
       "    <tr>\n",
       "      <th>2022-08-01</th>\n",
       "      <td>84.275970</td>\n",
       "      <td>93.0</td>\n",
       "    </tr>\n",
       "    <tr>\n",
       "      <th>2022-09-01</th>\n",
       "      <td>84.043491</td>\n",
       "      <td>90.0</td>\n",
       "    </tr>\n",
       "    <tr>\n",
       "      <th>2022-10-01</th>\n",
       "      <td>83.854885</td>\n",
       "      <td>90.0</td>\n",
       "    </tr>\n",
       "    <tr>\n",
       "      <th>2022-11-01</th>\n",
       "      <td>83.700897</td>\n",
       "      <td>90.0</td>\n",
       "    </tr>\n",
       "    <tr>\n",
       "      <th>2022-12-01</th>\n",
       "      <td>83.574650</td>\n",
       "      <td>90.0</td>\n",
       "    </tr>\n",
       "  </tbody>\n",
       "</table>\n",
       "</div>"
      ],
      "text/plain": [
       "            predicted_mean  target\n",
       "2022-01-01       90.004843    93.0\n",
       "2022-02-01       88.126060    93.0\n",
       "2022-03-01       86.886380    97.0\n",
       "2022-04-01       86.026158    97.0\n",
       "2022-05-01       85.401514   100.0\n",
       "2022-06-01       84.930622   100.0\n",
       "2022-07-01       84.565309    97.0\n",
       "2022-08-01       84.275970    93.0\n",
       "2022-09-01       84.043491    90.0\n",
       "2022-10-01       83.854885    90.0\n",
       "2022-11-01       83.700897    90.0\n",
       "2022-12-01       83.574650    90.0"
      ]
     },
     "execution_count": 97,
     "metadata": {},
     "output_type": "execute_result"
    }
   ],
   "source": [
    "# Forecasting\n",
    "forecast = ARIMA_fit.get_forecast(steps=test_split)\n",
    "forecasted_values = forecast.predicted_mean\n",
    "predictions = pd.concat([forecasted_values.to_frame(),X_test_uvARIMA], axis=1)\n",
    "predictions"
   ]
  },
  {
   "cell_type": "code",
   "execution_count": 68,
   "metadata": {},
   "outputs": [],
   "source": [
    "# Define function to calcuate DA and MAPE\n",
    "def mean_absolute_percentage_error(y_true, y_pred): \n",
    "    y_true, y_pred = np.array(y_true), np.array(y_pred)\n",
    "    return np.mean(np.abs((y_true - y_pred) / y_true)) * 100\n",
    "\n",
    "def directional_accuracy(y_true, y_pred):\n",
    "    return np.mean((np.sign(y_true[1:] - y_true[:-1].values) == np.sign(y_pred[1:] - y_pred[:-1].values))) * 100"
   ]
  },
  {
   "cell_type": "code",
   "execution_count": 103,
   "metadata": {},
   "outputs": [
    {
     "data": {
      "text/plain": [
       "2022-01-01    90.004843\n",
       "2022-02-01    88.126060\n",
       "2022-03-01    86.886380\n",
       "2022-04-01    86.026158\n",
       "Freq: MS, Name: predicted_mean, dtype: float64"
      ]
     },
     "execution_count": 103,
     "metadata": {},
     "output_type": "execute_result"
    }
   ],
   "source": [
    "predictions['predicted_mean'][:4]"
   ]
  },
  {
   "cell_type": "code",
   "execution_count": 114,
   "metadata": {},
   "outputs": [
    {
     "data": {
      "text/plain": [
       "27.27272727272727"
      ]
     },
     "execution_count": 114,
     "metadata": {},
     "output_type": "execute_result"
    }
   ],
   "source": [
    "n=12\n",
    "directional_accuracy(predictions['target'][:n], predictions['predicted_mean'][:n])"
   ]
  },
  {
   "cell_type": "code",
   "execution_count": 73,
   "metadata": {},
   "outputs": [
    {
     "data": {
      "text/plain": [
       "2022-01-01    90.004843\n",
       "2022-02-01    88.126060\n",
       "Freq: MS, Name: predicted_mean, dtype: float64"
      ]
     },
     "execution_count": 73,
     "metadata": {},
     "output_type": "execute_result"
    }
   ],
   "source": [
    "ARIMA_fit.get_forecast(steps=2).predicted_mean"
   ]
  },
  {
   "cell_type": "code",
   "execution_count": 80,
   "metadata": {},
   "outputs": [
    {
     "data": {
      "text/plain": [
       "2022-01-01    90.004843\n",
       "2022-02-01    88.126060\n",
       "Freq: MS, Name: predicted_mean, dtype: float64"
      ]
     },
     "execution_count": 80,
     "metadata": {},
     "output_type": "execute_result"
    }
   ],
   "source": [
    "ARIMA_fit.predict(start='2022-01-01', end='2022-02-01')"
   ]
  }
 ],
 "metadata": {
  "kernelspec": {
   "display_name": ".venv",
   "language": "python",
   "name": "python3"
  },
  "language_info": {
   "codemirror_mode": {
    "name": "ipython",
    "version": 3
   },
   "file_extension": ".py",
   "mimetype": "text/x-python",
   "name": "python",
   "nbconvert_exporter": "python",
   "pygments_lexer": "ipython3",
   "version": "3.9.16"
  },
  "orig_nbformat": 4
 },
 "nbformat": 4,
 "nbformat_minor": 2
}
